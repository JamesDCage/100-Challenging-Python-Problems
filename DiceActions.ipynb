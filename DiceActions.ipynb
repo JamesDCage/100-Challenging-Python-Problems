{
  "nbformat": 4,
  "nbformat_minor": 0,
  "metadata": {
    "colab": {
      "name": "DiceActions.ipynb",
      "provenance": [],
      "authorship_tag": "ABX9TyNf1iDGA4qlvrOwRNFl5BIl",
      "include_colab_link": true
    },
    "kernelspec": {
      "name": "python3",
      "display_name": "Python 3"
    }
  },
  "cells": [
    {
      "cell_type": "markdown",
      "metadata": {
        "id": "view-in-github",
        "colab_type": "text"
      },
      "source": [
        "<a href=\"https://colab.research.google.com/github/JamesDCage/100-Challenging-Python-Problems/blob/master/DiceActions.ipynb\" target=\"_parent\"><img src=\"https://colab.research.google.com/assets/colab-badge.svg\" alt=\"Open In Colab\"/></a>"
      ]
    },
    {
      "cell_type": "markdown",
      "metadata": {
        "id": "YLsARf1G1O0K",
        "colab_type": "text"
      },
      "source": [
        "<h1> TheBelt </h1>\n",
        "Calculations related to the game by George A. Petrick"
      ]
    },
    {
      "cell_type": "markdown",
      "metadata": {
        "id": "gEHg8G442A0S",
        "colab_type": "text"
      },
      "source": [
        "<h2> Sky Map</h2>\n",
        "Probability calculations for \"sky map\" game board"
      ]
    },
    {
      "cell_type": "code",
      "metadata": {
        "id": "d_Q8vuCDxnDr",
        "colab_type": "code",
        "colab": {}
      },
      "source": [
        "from itertools import permutations, combinations\n",
        "\n",
        "MAX_X = MAX_Y = 12\n",
        "\n",
        "# Create a set of all possible dice rolls (4d6)\n",
        "die_rolls = [(h,i,j,k) for h in range(1,7) \n",
        "                       for i in range(1,7) \n",
        "                       for j in range(1,7) \n",
        "                       for k in range(1,7)]\n"
      ],
      "execution_count": 79,
      "outputs": []
    },
    {
      "cell_type": "code",
      "metadata": {
        "id": "RtjEp4cLy0yz",
        "colab_type": "code",
        "colab": {}
      },
      "source": [
        "def xy_set(roll):\n",
        "    # For an individual die roll, create a set containing all possible x-y coordinates\n",
        "    # Ugly code\n",
        "    index_list = [0, 1, 2, 3]\n",
        "    combos = list(combinations(index_list,1)) + list(combinations(index_list,2)) + list(combinations(index_list,3))\n",
        "    roll_splits = [(list(c), list(set(index_list)-set(c))) for c in combos]\n",
        "    coordinates = set()\n",
        "    for a_split in roll_splits:\n",
        "        x = y = 0\n",
        "        for i in a_split[0]:\n",
        "            x += roll[i]\n",
        "        for j in a_split[1]:\n",
        "            y += roll[j]\n",
        "        if (x <= MAX_X and y <= MAX_Y):\n",
        "            coordinates.add((x,y))\n",
        "    return list(coordinates)\n"
      ],
      "execution_count": 80,
      "outputs": []
    },
    {
      "cell_type": "code",
      "metadata": {
        "id": "8UNVjDts-lNM",
        "colab_type": "code",
        "colab": {}
      },
      "source": [
        "# Create a list of all coordinates generated after rolling all dice. \n",
        "\n",
        "big_list = []\n",
        "\n",
        "for a_roll in die_rolls:\n",
        "    big_list += xy_set(a_roll)"
      ],
      "execution_count": 100,
      "outputs": []
    },
    {
      "cell_type": "code",
      "metadata": {
        "id": "hPUR_MlO3yPU",
        "colab_type": "code",
        "colab": {
          "base_uri": "https://localhost:8080/",
          "height": 221
        },
        "outputId": "c4853b4d-e194-46fd-bd1a-b6e5dc78c0fd"
      },
      "source": [
        "\"\"\"Create an array and count the number of occurences in the big list for each coordinate on the array\"\"\"\n",
        "import numpy as np\n",
        "count_array = np.zeros((MAX_X,MAX_Y))\n",
        "for i in range(MAX_X):\n",
        "    for j in range(MAX_Y):\n",
        "        # print(i,j)\n",
        "        count_array[i][j] = big_list.count((i+1,j+1))\n",
        "print(count_array)\n"
      ],
      "execution_count": 114,
      "outputs": [
        {
          "output_type": "stream",
          "text": [
            "[[  0.   0.   1.   4.  10.  20.  34.  52.  70.  84.  90.  88.]\n",
            " [  0.   1.   4.  10.  20.  35.  56.  76.  92. 100.  96.  88.]\n",
            " [  1.   4.  10.  20.  34.  56.  70.  88.  97. 112. 106.  92.]\n",
            " [  4.  10.  20.  31.  52.  80. 100. 118. 104. 100. 112.  91.]\n",
            " [ 10.  20.  34.  52.  60. 104. 114. 124. 118. 120.  82.  92.]\n",
            " [ 20.  35.  56.  80. 104. 101. 136. 140. 124. 112.  84.  70.]\n",
            " [ 34.  56.  70. 100. 114. 136.  90. 124.  96.  76.  48.  28.]\n",
            " [ 52.  76.  88. 118. 124. 140. 124.  61.  76.  62.  36.  22.]\n",
            " [ 70.  92.  97. 104. 118. 124.  96.  76.  36.  40.  24.  16.]\n",
            " [ 84. 100. 112. 100. 120. 112.  76.  62.  40.  19.  16.  10.]\n",
            " [ 90.  96. 106. 112.  82.  84.  48.  36.  24.  16.   6.   4.]\n",
            " [ 88.  88.  92.  91.  92.  70.  28.  22.  16.  10.   4.   1.]]\n"
          ],
          "name": "stdout"
        }
      ]
    },
    {
      "cell_type": "code",
      "metadata": {
        "id": "6TOR-qqQ4CEE",
        "colab_type": "code",
        "colab": {
          "base_uri": "https://localhost:8080/",
          "height": 34
        },
        "outputId": "7ec6d731-b75c-42a8-8f3f-9dc22d0a4fad"
      },
      "source": [
        "xy_set((6,5,6,6))"
      ],
      "execution_count": 105,
      "outputs": [
        {
          "output_type": "execute_result",
          "data": {
            "text/plain": [
              "[(11, 12), (12, 11)]"
            ]
          },
          "metadata": {
            "tags": []
          },
          "execution_count": 105
        }
      ]
    },
    {
      "cell_type": "code",
      "metadata": {
        "id": "WYGPl2Ln-MzQ",
        "colab_type": "code",
        "colab": {}
      },
      "source": [
        "d"
      ],
      "execution_count": null,
      "outputs": []
    }
  ]
}